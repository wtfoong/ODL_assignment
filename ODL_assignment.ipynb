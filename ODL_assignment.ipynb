{
  "nbformat": 4,
  "nbformat_minor": 0,
  "metadata": {
    "colab": {
      "provenance": [],
      "collapsed_sections": [],
      "authorship_tag": "ABX9TyOPF4Rws+0SwFNVOu9CKkkf",
      "include_colab_link": true
    },
    "kernelspec": {
      "name": "python3",
      "display_name": "Python 3"
    },
    "language_info": {
      "name": "python"
    }
  },
  "cells": [
    {
      "cell_type": "markdown",
      "metadata": {
        "id": "view-in-github",
        "colab_type": "text"
      },
      "source": [
        "<a href=\"https://colab.research.google.com/github/wtfoong/ODL_assignment/blob/main/ODL_assignment.ipynb\" target=\"_parent\"><img src=\"https://colab.research.google.com/assets/colab-badge.svg\" alt=\"Open In Colab\"/></a>"
      ]
    },
    {
      "cell_type": "code",
      "execution_count": null,
      "metadata": {
        "id": "1NUM8v26MNLv"
      },
      "outputs": [],
      "source": [
        "#install new ver of panda profilling\n",
        "!pip install pandas_profiling --upgrade"
      ]
    },
    {
      "cell_type": "code",
      "source": [
        "#imports\n",
        "import matplotlib.pyplot as plt\n",
        "from pandas_profiling import ProfileReport\n",
        "import math\n",
        "import numpy as np\n",
        "import pandas as pd\n",
        "import seaborn as sns"
      ],
      "metadata": {
        "id": "80DGQ3QfTrda"
      },
      "execution_count": null,
      "outputs": []
    },
    {
      "cell_type": "markdown",
      "source": [
        "#### Dataset Exploration and preprocessing"
      ],
      "metadata": {
        "id": "AgOr7BkPPIPy"
      }
    },
    {
      "cell_type": "code",
      "source": [
        "#Mounting Google Drive to google Colab\n",
        "from google.colab import drive\n",
        "drive.mount('/drive')"
      ],
      "metadata": {
        "colab": {
          "base_uri": "https://localhost:8080/"
        },
        "id": "L5zKn0KePSwB",
        "outputId": "3e93e9e6-9017-450d-def9-1cb484261915"
      },
      "execution_count": null,
      "outputs": [
        {
          "output_type": "stream",
          "name": "stdout",
          "text": [
            "Drive already mounted at /drive; to attempt to forcibly remount, call drive.mount(\"/drive\", force_remount=True).\n"
          ]
        }
      ]
    },
    {
      "cell_type": "code",
      "source": [
        "#connecting dataset\n",
        "path = '/drive/MyDrive/ODL assignment/diabetes_binary_5050split_health_indicators_BRFSS2015.csv' \n",
        "df = pd.read_csv(path)"
      ],
      "metadata": {
        "id": "t5IKlsKFPeu5"
      },
      "execution_count": null,
      "outputs": []
    },
    {
      "cell_type": "code",
      "source": [
        "#read first 5 row of data\n",
        "df.head()"
      ],
      "metadata": {
        "id": "gIc35_lBPxyi"
      },
      "execution_count": null,
      "outputs": []
    },
    {
      "cell_type": "code",
      "source": [
        "#read last 5 rows \n",
        "df.tail()"
      ],
      "metadata": {
        "id": "87IOqBp7P9Jx"
      },
      "execution_count": null,
      "outputs": []
    },
    {
      "cell_type": "code",
      "source": [
        "#see all columns\n",
        "df.columns"
      ],
      "metadata": {
        "id": "niGl4tTcQAm5"
      },
      "execution_count": null,
      "outputs": []
    },
    {
      "cell_type": "code",
      "source": [
        "#see dataset information\n",
        "df.info()"
      ],
      "metadata": {
        "id": "TLPgrgWDQP7R"
      },
      "execution_count": null,
      "outputs": []
    },
    {
      "cell_type": "code",
      "source": [
        "#know number of rows and columns\n",
        "df.shape"
      ],
      "metadata": {
        "id": "Lm1TZH4SQaWx"
      },
      "execution_count": null,
      "outputs": []
    },
    {
      "cell_type": "code",
      "source": [
        "#get mean and other stuff of all columns\n",
        "df.describe()"
      ],
      "metadata": {
        "id": "unsj9ad6Qn15"
      },
      "execution_count": null,
      "outputs": []
    },
    {
      "cell_type": "code",
      "source": [
        "#get a detailed report for all columsn in the dataset\n",
        "pReport = ProfileReport(df)\n",
        "pReport"
      ],
      "metadata": {
        "id": "BLg_6ggDSSVT"
      },
      "execution_count": null,
      "outputs": []
    },
    {
      "cell_type": "code",
      "source": [
        "#check for missing data\n",
        "df.isnull().sum().any()"
      ],
      "metadata": {
        "id": "0sA_2TqZQ0IC"
      },
      "execution_count": null,
      "outputs": []
    },
    {
      "cell_type": "code",
      "source": [
        "# view unique values in all columns\n",
        "unique_values = {}\n",
        "for col in df.columns:\n",
        "    unique_values[col] = df[col].value_counts().shape[0]\n",
        "\n",
        "pd.DataFrame(unique_values, index=['unique value count']).transpose()\n"
      ],
      "metadata": {
        "id": "xGlyfaBjW5Ls"
      },
      "execution_count": null,
      "outputs": []
    },
    {
      "cell_type": "code",
      "source": [
        "# chk for outliers in dataset using box plot, columns chosen to check are columns with more than 2 unique values\n",
        "plt.figure(figsize = (15,15))\n",
        "for i,col in enumerate(['BMI', 'GenHlth', 'MentHlth', 'PhysHlth', 'Age','Education', 'Income']):\n",
        "    plt.subplot(4,2,i+1)\n",
        "    sns.boxplot(x = col, data = df ,palette='Set2')\n",
        "plt.show()"
      ],
      "metadata": {
        "id": "HKQtd8r-Yni0"
      },
      "execution_count": null,
      "outputs": []
    },
    {
      "cell_type": "code",
      "source": [
        "#Replacing 0 into Non-Diabetic and 1 into Diabetic in a new Diabetes_str column\n",
        "df[\"Diabetes_str\"]= df[\"Diabetes_binary\"].replace({'0':\"Not Diabetic\",'1':\"Diabetic\"})"
      ],
      "metadata": {
        "id": "gFWPym4Yc0Od"
      },
      "execution_count": null,
      "outputs": []
    },
    {
      "cell_type": "code",
      "source": [
        "# to show categorical values better\n",
        "df2 = df.copy() "
      ],
      "metadata": {
        "id": "_kYV3hpIdKOt"
      },
      "execution_count": null,
      "outputs": []
    },
    {
      "cell_type": "code",
      "source": [
        "# help to show relations between the different features better, all explaination for columns are from author of dataset\n",
        "df2.Age[df2['Age'] == 1] = '18 - 24'\n",
        "df2.Age[df2['Age'] == 2] = '25 - 29'\n",
        "df2.Age[df2['Age'] == 3] = '30 - 34'\n",
        "df2.Age[df2['Age'] == 4] = '35 - 39'\n",
        "df2.Age[df2['Age'] == 5] = '40 - 44'\n",
        "df2.Age[df2['Age'] == 6] = '45 - 49'\n",
        "df2.Age[df2['Age'] == 7] = '50 - 54'\n",
        "df2.Age[df2['Age'] == 8] = '55 - 59'\n",
        "df2.Age[df2['Age'] == 9] = '60 - 64'\n",
        "df2.Age[df2['Age'] == 10] = '65 - 69'\n",
        "df2.Age[df2['Age'] == 11] = '70 - 74'\n",
        "df2.Age[df2['Age'] == 12] = '75 - 79'\n",
        "df2.Age[df2['Age'] == 13] = '80 or older'\n",
        "\n",
        "df2.Diabetes_binary[df2['Diabetes_binary'] == 0] = 'Not Diabetic'\n",
        "df2.Diabetes_binary[df2['Diabetes_binary'] == 1] = 'Diabetic'\n",
        "\n",
        "df2.HighBP[df2['HighBP'] == 0] = 'Normal BP'\n",
        "df2.HighBP[df2['HighBP'] == 1] = 'High BP'\n",
        "\n",
        "df2.HighChol[df2['HighChol'] == 0] = 'Normal Cholesterol'\n",
        "df2.HighChol[df2['HighChol'] == 1] = 'High Cholesterol'\n",
        "\n",
        "df2.CholCheck[df2['CholCheck'] == 0] = 'No Cholesterol Check in 5 Years'\n",
        "df2.CholCheck[df2['CholCheck'] == 1] = 'Cholesterol Check in 5 Years'\n",
        "\n",
        "df2.Smoker[df2['Smoker'] == 0] = 'No'\n",
        "df2.Smoker[df2['Smoker'] == 1] = 'Yes'\n",
        "\n",
        "df2.Stroke[df2['Stroke'] == 0] = 'No'\n",
        "df2.Stroke[df2['Stroke'] == 1] = 'Yes'\n",
        "\n",
        "df2.HeartDiseaseorAttack[df2['HeartDiseaseorAttack'] == 0] = 'No'\n",
        "df2.HeartDiseaseorAttack[df2['HeartDiseaseorAttack'] == 1] = 'Yes'\n",
        "\n",
        "df2.PhysActivity[df2['PhysActivity'] == 0] = 'No'\n",
        "df2.PhysActivity[df2['PhysActivity'] == 1] = 'Yes'\n",
        "\n",
        "df2.Fruits[df2['Fruits'] == 0] = 'No'\n",
        "df2.Fruits[df2['Fruits'] == 1] = 'Yes'\n",
        "\n",
        "df2.Veggies[df2['Veggies'] == 0] = 'No'\n",
        "df2.Veggies[df2['Veggies'] == 1] = 'Yes'\n",
        "\n",
        "df2.HvyAlcoholConsump[df2['HvyAlcoholConsump'] == 0] = 'No'\n",
        "df2.HvyAlcoholConsump[df2['HvyAlcoholConsump'] == 1] = 'Yes'\n",
        "\n",
        "df2.AnyHealthcare[df2['AnyHealthcare'] == 0] = 'No'\n",
        "df2.AnyHealthcare[df2['AnyHealthcare'] == 1] = 'Yes'\n",
        "\n",
        "df2.NoDocbcCost[df2['NoDocbcCost'] == 0] = 'No'\n",
        "df2.NoDocbcCost[df2['NoDocbcCost'] == 1] = 'Yes'\n",
        "\n",
        "df2.GenHlth[df2['GenHlth'] == 5] = 'Excellent'\n",
        "df2.GenHlth[df2['GenHlth'] == 4] = 'Very Good'\n",
        "df2.GenHlth[df2['GenHlth'] == 3] = 'Good'\n",
        "df2.GenHlth[df2['GenHlth'] == 2] = 'Fair'\n",
        "df2.GenHlth[df2['GenHlth'] == 1] = 'Poor'\n",
        "\n",
        "df2.DiffWalk[df2['DiffWalk'] == 0] = 'No'\n",
        "df2.DiffWalk[df2['DiffWalk'] == 1] = 'Yes'\n",
        "\n",
        "df2.Sex[df2['Sex'] == 0] = 'Female'\n",
        "df2.Sex[df2['Sex'] == 1] = 'Male'\n",
        "\n",
        "df2.Education[df2['Education'] == 1] = 'Never Attended School'\n",
        "df2.Education[df2['Education'] == 2] = 'Elementary'\n",
        "df2.Education[df2['Education'] == 3] = 'Junior High School'\n",
        "df2.Education[df2['Education'] == 4] = 'Senior High School'\n",
        "df2.Education[df2['Education'] == 5] = 'Undergraduate Degree'\n",
        "df2.Education[df2['Education'] == 6] = 'Magister'\n",
        "\n",
        "df2.Income[df2['Income'] == 1] = 'Less Than $10,000'\n",
        "df2.Income[df2['Income'] == 2] = 'Less Than $10,000'\n",
        "df2.Income[df2['Income'] == 3] = 'Less Than $10,000'\n",
        "df2.Income[df2['Income'] == 4] = 'Less Than $10,000'\n",
        "df2.Income[df2['Income'] == 5] = 'Less Than $35,000'\n",
        "df2.Income[df2['Income'] == 6] = 'Less Than $35,000'\n",
        "df2.Income[df2['Income'] == 7] = 'Less Than $35,000'\n",
        "df2.Income[df2['Income'] == 8] = '$75,000 or More'"
      ],
      "metadata": {
        "id": "G9kaXKXydQtG"
      },
      "execution_count": null,
      "outputs": []
    },
    {
      "cell_type": "code",
      "source": [
        "#use heatmap to show correlation of features in the dataset\n",
        "plt.figure(figsize = (20,10))\n",
        "sns.heatmap(df.corr(),annot=True , cmap ='YlOrRd' )\n",
        "plt.title(\"correlation of features\")"
      ],
      "metadata": {
        "id": "Qu_FG5hnfIMH"
      },
      "execution_count": null,
      "outputs": []
    },
    {
      "cell_type": "code",
      "source": [
        "# using bar graph to show the relation of the features with the Diabetic binary along with the feature's yes no columns\n",
        "cols = ['HighBP', 'HighChol', 'CholCheck','Smoker',\n",
        "       'Stroke', 'HeartDiseaseorAttack', 'PhysActivity', 'Veggies',\n",
        "       'HvyAlcoholConsump', 'AnyHealthcare', 'NoDocbcCost', 'DiffWalk']\n",
        "\n",
        "def create_pivot_plot(df2, x_column):\n",
        "    # Create a pivot table for satisfaction versus another rating for easy plotting.\n",
        "    p_plot = df2.groupby([x_column, 'Diabetes_binary']).size() \\\n",
        "    .reset_index().pivot(columns='Diabetes_binary', index=x_column, values=0)\n",
        "    return p_plot\n",
        "\n",
        "fig, ax = plt.subplots(3, 4, figsize=(20,20))\n",
        "axe = ax.ravel()\n",
        "\n",
        "c = len(cols)\n",
        "\n",
        "for i in range(c):\n",
        "    create_pivot_plot(df2, cols[i]).plot(kind='bar',stacked=True, ax=axe[i])\n",
        "    axe[i].set_xlabel(cols[i])\n",
        "    \n",
        "fig.show()"
      ],
      "metadata": {
        "id": "-UQBCl1lff-_"
      },
      "execution_count": null,
      "outputs": []
    },
    {
      "cell_type": "markdown",
      "source": [
        "\n",
        "\n",
        "---\n",
        "\n"
      ],
      "metadata": {
        "id": "VlIJIfJ5gqVX"
      }
    },
    {
      "cell_type": "code",
      "source": [
        "#explore on Daibetes_binary column\n",
        "\n",
        "df2[\"Diabetes_binary\"].value_counts()"
      ],
      "metadata": {
        "id": "5ro37oLpgtMm"
      },
      "execution_count": null,
      "outputs": []
    },
    {
      "cell_type": "code",
      "source": [
        "#showing the numbers in a pie chart\n",
        "\n",
        "labels=[\"non-Diabetic\",\"Diabetic\"]\n",
        "\n",
        "plt.pie(df2[\"Diabetes_binary\"].value_counts() , labels =labels ,autopct='%.02f' );"
      ],
      "metadata": {
        "colab": {
          "base_uri": "https://localhost:8080/",
          "height": 248
        },
        "id": "ntyRIuHThB6m",
        "outputId": "0ae8fa58-d68d-4942-a11c-8c4e351ba91f"
      },
      "execution_count": null,
      "outputs": [
        {
          "output_type": "display_data",
          "data": {
            "text/plain": [
              "<Figure size 432x288 with 1 Axes>"
            ],
            "image/png": "[encoded data removed]"
          },
          "metadata": {}
        }
      ]
    },
    {
      "cell_type": "markdown",
      "source": [
        "The pie chart shows that the data is balanced as the dataset is an already balanced dataset."
      ],
      "metadata": {
        "id": "JvCj5zjFhRAf"
      }
    },
    {
      "cell_type": "markdown",
      "source": [
        "\n",
        "\n",
        "---\n",
        "\n"
      ],
      "metadata": {
        "id": "BhhkXWRThnpf"
      }
    },
    {
      "cell_type": "code",
      "source": [
        "#Age relation with diabetes binary\n",
        "pd.crosstab(df2.Age,df2.Diabetes_binary).plot(kind=\"bar\",figsize=(20,6))\n",
        "plt.title('Frequecy of diabates in relation to age')\n",
        "plt.xlabel('Age')\n",
        "plt.xticks(rotation=0)\n",
        "plt.ylabel('Numbers')\n",
        "plt.show()"
      ],
      "metadata": {
        "id": "NME8NW9LhoTP",
        "colab": {
          "base_uri": "https://localhost:8080/",
          "height": 404
        },
        "outputId": "0467a2ba-e71e-421c-de3a-add35810ed93"
      },
      "execution_count": null,
      "outputs": [
        {
          "output_type": "display_data",
          "data": {
            "text/plain": [
              "<Figure size 1440x432 with 1 Axes>"
            ],
            "image/png": "[encoded data removed]"
          },
          "metadata": {
            "needs_background": "light"
          }
        }
      ]
    },
    {
      "cell_type": "code",
      "source": [
        "#relation of education with diabetes\n",
        "pd.crosstab(df.Education,df2.Diabetes_binary).plot(kind=\"bar\",figsize=(20,6))\n",
        "plt.title('Frequecy of diabates in relation to education')\n",
        "plt.xlabel('Education Level')\n",
        "plt.xticks(rotation=0)\n",
        "plt.ylabel('Numbers')\n",
        "plt.show()"
      ],
      "metadata": {
        "colab": {
          "base_uri": "https://localhost:8080/",
          "height": 404
        },
        "id": "3JIR7Mf0T2VP",
        "outputId": "c94db8a3-ae11-4067-ce9b-074103f3fec3"
      },
      "execution_count": null,
      "outputs": [
        {
          "output_type": "display_data",
          "data": {
            "text/plain": [
              "<Figure size 1440x432 with 1 Axes>"
            ],
            "image/png": "[encoded data removed]"
          },
          "metadata": {
            "needs_background": "light"
          }
        }
      ]
    },
    {
      "cell_type": "code",
      "source": [
        "#relation of income with diabetes\n",
        "plt.figure(figsize=(10,6))\n",
        "\n",
        "\n",
        "sns.histplot(df.Income[df.Diabetes_binary == 0], color=\"y\", label=\"No Diabetic\" )\n",
        "sns.histplot(df.Income[df.Diabetes_binary == 1], color=\"r\", label=\"Diabetic\" )\n",
        "plt.title(\"Relation of income with diabetes\")\n",
        "\n",
        "plt.legend()"
      ],
      "metadata": {
        "colab": {
          "base_uri": "https://localhost:8080/",
          "height": 422
        },
        "id": "TlLrpDHZUZK2",
        "outputId": "db4f4454-f92f-468f-8db1-ba1d0ca43585"
      },
      "execution_count": null,
      "outputs": [
        {
          "output_type": "execute_result",
          "data": {
            "text/plain": [
              "<matplotlib.legend.Legend at 0x7f2b10d05f50>"
            ]
          },
          "metadata": {},
          "execution_count": 19
        },
        {
          "output_type": "display_data",
          "data": {
            "text/plain": [
              "<Figure size 720x432 with 1 Axes>"
            ],
            "image/png": "[encoded data removed]"
          },
          "metadata": {
            "needs_background": "light"
          }
        }
      ]
    },
    {
      "cell_type": "code",
      "source": [
        "#see the relation of  BMI and diabetes\n",
        "pd.crosstab(df2.BMI,df2.Diabetes_binary).plot(kind=\"bar\",figsize=(40,8))\n",
        "plt.title('Frequecy of diabates in relation to BMI')\n",
        "plt.xlabel('BMI')\n",
        "plt.xticks(rotation=0)\n",
        "plt.ylabel('Numbers')\n",
        "plt.show()"
      ],
      "metadata": {
        "id": "NCPwNIW7VPXv"
      },
      "execution_count": null,
      "outputs": []
    },
    {
      "cell_type": "markdown",
      "source": [
        "\n",
        "\n",
        "---\n",
        "\n"
      ],
      "metadata": {
        "id": "msg2l1vGXD63"
      }
    },
    {
      "cell_type": "markdown",
      "source": [
        "### Feature Selection"
      ],
      "metadata": {
        "id": "Fkicpv7fXEK_"
      }
    },
    {
      "cell_type": "code",
      "source": [
        "# use bar graph to see the correlation of the features to diabete binary\n",
        "df.drop('Diabetes_binary', axis=1).corrwith(df.Diabetes_binary).plot(kind='bar', grid=True, figsize=(20, 8)\n",
        ", title=\"Correlation of features with Diabetes_binary\",color=\"Blue\");"
      ],
      "metadata": {
        "colab": {
          "base_uri": "https://localhost:8080/",
          "height": 598
        },
        "id": "77nmn_ZgXC-3",
        "outputId": "69495c0d-da84-4fb1-894f-92901ced36f7"
      },
      "execution_count": null,
      "outputs": [
        {
          "output_type": "display_data",
          "data": {
            "text/plain": [
              "<Figure size 1440x576 with 1 Axes>"
            ],
            "image/png": "[encoded data removed]"
          },
          "metadata": {
            "needs_background": "light"
          }
        }
      ]
    },
    {
      "cell_type": "code",
      "source": [
        "#use chi square to select best features\n",
        "from sklearn.feature_selection import SelectKBest\n",
        "from sklearn.feature_selection import chi2\n",
        "\n",
        "X = df.iloc[:,1:]\n",
        "Y = df.iloc[:,0]\n",
        "\n",
        "feature_comparison = SelectKBest(score_func=chi2, k=10)\n",
        "f = feature_comparison.fit(X,Y)\n",
        "\n",
        "feature_scores = pd.DataFrame(f.scores_)\n",
        "features = pd.DataFrame(X.columns)\n",
        "\n",
        "#concatenating two dataframes for better visualization\n",
        "f_Scores_table = pd.concat([features,feature_scores],axis=1)              \n",
        "f_Scores_table.columns = ['Feature','Score']\n",
        "\n",
        "f_Scores_table.sort_values(by=['Score'],ascending=False)"
      ],
      "metadata": {
        "colab": {
          "base_uri": "https://localhost:8080/",
          "height": 707
        },
        "id": "t8GdzZbaXjJg",
        "outputId": "6eb1abaa-60ac-41e3-9eee-522c5cb96733"
      },
      "execution_count": null,
      "outputs": [
        {
          "output_type": "execute_result",
          "data": {
            "text/plain": [
              "                 Feature         Score\n",
              "15              PhysHlth  55929.053254\n",
              "3                    BMI  10312.875795\n",
              "14              MentHlth   9491.555258\n",
              "18                   Age   5204.869946\n",
              "13               GenHlth   5133.529630\n",
              "0                 HighBP   4491.799960\n",
              "16              DiffWalk   3926.865331\n",
              "20                Income   2956.984221\n",
              "1               HighChol   2804.501278\n",
              "6   HeartDiseaseorAttack   2695.401378\n",
              "5                 Stroke   1042.976337\n",
              "10     HvyAlcoholConsump    608.852980\n",
              "7           PhysActivity    528.494034\n",
              "19             Education    442.144248\n",
              "4                 Smoker    274.340616\n",
              "12           NoDocbcCost    107.550083\n",
              "9                Veggies     93.883501\n",
              "8                 Fruits     80.250850\n",
              "17                   Sex     75.716461\n",
              "2              CholCheck     23.284293\n",
              "11         AnyHealthcare      1.712390"
            ],
            "text/html": [
              "\n",
              "  <div id=\"df-08d79a06-8e90-4510-89ce-fdca5f5ef765\">\n",
              "    <div class=\"colab-df-container\">\n",
              "      <div>\n",
              "<style scoped>\n",
              "    .dataframe tbody tr th:only-of-type {\n",
              "        vertical-align: middle;\n",
              "    }\n",
              "\n",
              "    .dataframe tbody tr th {\n",
              "        vertical-align: top;\n",
              "    }\n",
              "\n",
              "    .dataframe thead th {\n",
              "        text-align: right;\n",
              "    }\n",
              "</style>\n",
              "<table border=\"1\" class=\"dataframe\">\n",
              "  <thead>\n",
              "    <tr style=\"text-align: right;\">\n",
              "      <th></th>\n",
              "      <th>Feature</th>\n",
              "      <th>Score</th>\n",
              "    </tr>\n",
              "  </thead>\n",
              "  <tbody>\n",
              "    <tr>\n",
              "      <th>15</th>\n",
              "      <td>PhysHlth</td>\n",
              "      <td>55929.053254</td>\n",
              "    </tr>\n",
              "    <tr>\n",
              "      <th>3</th>\n",
              "      <td>BMI</td>\n",
              "      <td>10312.875795</td>\n",
              "    </tr>\n",
              "    <tr>\n",
              "      <th>14</th>\n",
              "      <td>MentHlth</td>\n",
              "      <td>9491.555258</td>\n",
              "    </tr>\n",
              "    <tr>\n",
              "      <th>18</th>\n",
              "      <td>Age</td>\n",
              "      <td>5204.869946</td>\n",
              "    </tr>\n",
              "    <tr>\n",
              "      <th>13</th>\n",
              "      <td>GenHlth</td>\n",
              "      <td>5133.529630</td>\n",
              "    </tr>\n",
              "    <tr>\n",
              "      <th>0</th>\n",
              "      <td>HighBP</td>\n",
              "      <td>4491.799960</td>\n",
              "    </tr>\n",
              "    <tr>\n",
              "      <th>16</th>\n",
              "      <td>DiffWalk</td>\n",
              "      <td>3926.865331</td>\n",
              "    </tr>\n",
              "    <tr>\n",
              "      <th>20</th>\n",
              "      <td>Income</td>\n",
              "      <td>2956.984221</td>\n",
              "    </tr>\n",
              "    <tr>\n",
              "      <th>1</th>\n",
              "      <td>HighChol</td>\n",
              "      <td>2804.501278</td>\n",
              "    </tr>\n",
              "    <tr>\n",
              "      <th>6</th>\n",
              "      <td>HeartDiseaseorAttack</td>\n",
              "      <td>2695.401378</td>\n",
              "    </tr>\n",
              "    <tr>\n",
              "      <th>5</th>\n",
              "      <td>Stroke</td>\n",
              "      <td>1042.976337</td>\n",
              "    </tr>\n",
              "    <tr>\n",
              "      <th>10</th>\n",
              "      <td>HvyAlcoholConsump</td>\n",
              "      <td>608.852980</td>\n",
              "    </tr>\n",
              "    <tr>\n",
              "      <th>7</th>\n",
              "      <td>PhysActivity</td>\n",
              "      <td>528.494034</td>\n",
              "    </tr>\n",
              "    <tr>\n",
              "      <th>19</th>\n",
              "      <td>Education</td>\n",
              "      <td>442.144248</td>\n",
              "    </tr>\n",
              "    <tr>\n",
              "      <th>4</th>\n",
              "      <td>Smoker</td>\n",
              "      <td>274.340616</td>\n",
              "    </tr>\n",
              "    <tr>\n",
              "      <th>12</th>\n",
              "      <td>NoDocbcCost</td>\n",
              "      <td>107.550083</td>\n",
              "    </tr>\n",
              "    <tr>\n",
              "      <th>9</th>\n",
              "      <td>Veggies</td>\n",
              "      <td>93.883501</td>\n",
              "    </tr>\n",
              "    <tr>\n",
              "      <th>8</th>\n",
              "      <td>Fruits</td>\n",
              "      <td>80.250850</td>\n",
              "    </tr>\n",
              "    <tr>\n",
              "      <th>17</th>\n",
              "      <td>Sex</td>\n",
              "      <td>75.716461</td>\n",
              "    </tr>\n",
              "    <tr>\n",
              "      <th>2</th>\n",
              "      <td>CholCheck</td>\n",
              "      <td>23.284293</td>\n",
              "    </tr>\n",
              "    <tr>\n",
              "      <th>11</th>\n",
              "      <td>AnyHealthcare</td>\n",
              "      <td>1.712390</td>\n",
              "    </tr>\n",
              "  </tbody>\n",
              "</table>\n",
              "</div>\n",
              "      <button class=\"colab-df-convert\" onclick=\"convertToInteractive('df-08d79a06-8e90-4510-89ce-fdca5f5ef765')\"\n",
              "              title=\"Convert this dataframe to an interactive table.\"\n",
              "              style=\"display:none;\">\n",
              "        \n",
              "  <svg xmlns=\"http://www.w3.org/2000/svg\" height=\"24px\"viewBox=\"0 0 24 24\"\n",
              "       width=\"24px\">\n",
              "    <path d=\"M0 0h24v24H0V0z\" fill=\"none\"/>\n",
              "    <path d=\"M18.56 5.44l.94 2.06.94-2.06 2.06-.94-2.06-.94-.94-2.06-.94 2.06-2.06.94zm-11 1L8.5 8.5l.94-2.06 2.06-.94-2.06-.94L8.5 2.5l-.94 2.06-2.06.94zm10 10l.94 2.06.94-2.06 2.06-.94-2.06-.94-.94-2.06-.94 2.06-2.06.94z\"/><path d=\"M17.41 7.96l-1.37-1.37c-.4-.4-.92-.59-1.43-.59-.52 0-1.04.2-1.43.59L10.3 9.45l-7.72 7.72c-.78.78-.78 2.05 0 2.83L4 21.41c.39.39.9.59 1.41.59.51 0 1.02-.2 1.41-.59l7.78-7.78 2.81-2.81c.8-.78.8-2.07 0-2.86zM5.41 20L4 18.59l7.72-7.72 1.47 1.35L5.41 20z\"/>\n",
              "  </svg>\n",
              "      </button>\n",
              "      \n",
              "  <style>\n",
              "    .colab-df-container {\n",
              "      display:flex;\n",
              "      flex-wrap:wrap;\n",
              "      gap: 12px;\n",
              "    }\n",
              "\n",
              "    .colab-df-convert {\n",
              "      background-color: #E8F0FE;\n",
              "      border: none;\n",
              "      border-radius: 50%;\n",
              "      cursor: pointer;\n",
              "      display: none;\n",
              "      fill: #1967D2;\n",
              "      height: 32px;\n",
              "      padding: 0 0 0 0;\n",
              "      width: 32px;\n",
              "    }\n",
              "\n",
              "    .colab-df-convert:hover {\n",
              "      background-color: #E2EBFA;\n",
              "      box-shadow: 0px 1px 2px rgba(60, 64, 67, 0.3), 0px 1px 3px 1px rgba(60, 64, 67, 0.15);\n",
              "      fill: #174EA6;\n",
              "    }\n",
              "\n",
              "    [theme=dark] .colab-df-convert {\n",
              "      background-color: #3B4455;\n",
              "      fill: #D2E3FC;\n",
              "    }\n",
              "\n",
              "    [theme=dark] .colab-df-convert:hover {\n",
              "      background-color: #434B5C;\n",
              "      box-shadow: 0px 1px 3px 1px rgba(0, 0, 0, 0.15);\n",
              "      filter: drop-shadow(0px 1px 2px rgba(0, 0, 0, 0.3));\n",
              "      fill: #FFFFFF;\n",
              "    }\n",
              "  </style>\n",
              "\n",
              "      <script>\n",
              "        const buttonEl =\n",
              "          document.querySelector('#df-08d79a06-8e90-4510-89ce-fdca5f5ef765 button.colab-df-convert');\n",
              "        buttonEl.style.display =\n",
              "          google.colab.kernel.accessAllowed ? 'block' : 'none';\n",
              "\n",
              "        async function convertToInteractive(key) {\n",
              "          const element = document.querySelector('#df-08d79a06-8e90-4510-89ce-fdca5f5ef765');\n",
              "          const dataTable =\n",
              "            await google.colab.kernel.invokeFunction('convertToInteractive',\n",
              "                                                     [key], {});\n",
              "          if (!dataTable) return;\n",
              "\n",
              "          const docLinkHtml = 'Like what you see? Visit the ' +\n",
              "            '<a target=\"_blank\" href=https://colab.research.google.com/notebooks/data_table.ipynb>data table notebook</a>'\n",
              "            + ' to learn more about interactive tables.';\n",
              "          element.innerHTML = '';\n",
              "          dataTable['output_type'] = 'display_data';\n",
              "          await google.colab.output.renderOutput(dataTable, element);\n",
              "          const docLink = document.createElement('div');\n",
              "          docLink.innerHTML = docLinkHtml;\n",
              "          element.appendChild(docLink);\n",
              "        }\n",
              "      </script>\n",
              "    </div>\n",
              "  </div>\n",
              "  "
            ]
          },
          "metadata": {},
          "execution_count": 43
        }
      ]
    },
    {
      "cell_type": "markdown",
      "source": [
        "Features with score lower than 100 will be removed. In this case, veggies, fruits, sex, cholcheck and anyhealth care will be removed as features."
      ],
      "metadata": {
        "id": "Ib66A5KmZzLI"
      }
    },
    {
      "cell_type": "code",
      "source": [
        "disqualified_features = [\"Veggies\" , \"Fruits\" , \"Sex\" , \"CholCheck\" , \"AnyHealthcare\" , \"Diabetes_str\"]"
      ],
      "metadata": {
        "id": "xYOMroaDaEww"
      },
      "execution_count": null,
      "outputs": []
    },
    {
      "cell_type": "code",
      "source": [
        "df.drop(disqualified_features,axis= 1 ,inplace=True)"
      ],
      "metadata": {
        "id": "SiRzniJzaM4Q"
      },
      "execution_count": null,
      "outputs": []
    }
  ]
}